{
  "nbformat": 4,
  "nbformat_minor": 0,
  "metadata": {
    "colab": {
      "provenance": []
    },
    "kernelspec": {
      "name": "python3",
      "display_name": "Python 3"
    },
    "language_info": {
      "name": "python"
    }
  },
  "cells": [
    {
      "cell_type": "code",
      "execution_count": 1,
      "metadata": {
        "colab": {
          "base_uri": "https://localhost:8080/"
        },
        "id": "6f5SfXhSWKSn",
        "outputId": "cd8c56b1-de5b-4e1b-88a4-2fbde719dfa4"
      },
      "outputs": [
        {
          "output_type": "stream",
          "name": "stdout",
          "text": [
            "INITIAL_TEMP:100\n",
            "AMBIENT_TEMP20\n",
            "COOLING CONSTANT:0.1\n",
            "TIME:2\n",
            "Temperature after 2 minutes: 85.49846024623855\n"
          ]
        }
      ],
      "source": [
        "import math\n",
        "\n",
        "def newtons_law_of_cooling(initial_temp, ambient_temp, cooling_constant, time):\n",
        "\n",
        "    return ambient_temp + (initial_temp - ambient_temp) * math.exp(-cooling_constant * time)\n",
        "\n",
        "initial_temp = int(input(\"INITIAL_TEMP:\"))\n",
        "ambient_temp = int(input(\"AMBIENT_TEMP\"))\n",
        "cooling_constant = float(input(\"COOLING CONSTANT:\"))\n",
        "time = int(input(\"TIME:\"))\n",
        "\n",
        "result = newtons_law_of_cooling(initial_temp, ambient_temp, cooling_constant, time)\n",
        "print(\"Temperature after\", time, \"minutes:\", result)\n"
      ]
    }
  ]
}